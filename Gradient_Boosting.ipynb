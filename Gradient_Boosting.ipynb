{
 "cells": [
  {
   "cell_type": "code",
   "execution_count": 80,
   "metadata": {
    "collapsed": true
   },
   "outputs": [],
   "source": [
    "def write_answer(ans, num):\n",
    "    file_name = \"answer_\" + str(num) + \".txt\"\n",
    "    with open(file_name, \"w\") as fout:\n",
    "        fout.write(str(ans))"
   ]
  },
  {
   "cell_type": "markdown",
   "metadata": {},
   "source": [
    "# Задание: Градиентный бустинг своими руками"
   ]
  },
  {
   "cell_type": "markdown",
   "metadata": {},
   "source": [
    "В этом задании будет использоваться датасет boston из sklearn.datasets. Оставьте последние 25% объектов для контроля качества, разделив X и y на X_train, y_train и X_test, y_test.\n",
    "\n",
    "Целью задания будет реализовать простой вариант градиентного бустинга над регрессионными деревьями для случая квадратичной функции потерь."
   ]
  },
  {
   "cell_type": "markdown",
   "metadata": {},
   "source": [
    "### Задание 1\n",
    "\n",
    "Как вы уже знаете из лекций, бустинг - это метод построения композиций базовых алгоритмов с помощью последовательного добавления к текущей композиции нового алгоритма с некоторым коэффициентом. Градиентный бустинг обучает каждый новый алгоритм так, чтобы он приближал антиградиент ошибки по ответам композиции на обучающей выборке. Аналогично минимизации функций методом градиентного спуска, в градиентном бустинге мы подправляем композицию, изменяя алгоритм в направлении антиградиента ошибки. Воспользуйтесь формулой из лекций, задающей ответы на обучающей выборке, на которые нужно обучать новый алгоритм (фактически это лишь чуть более подробно расписанный градиент от ошибки), и получите частный ее случай, если функция потерь L - квадрат отклонения ответа композиции a(x) от правильного ответа y на данном x.\n",
    "\n",
    "Если вы давно не считали производную самостоятельно, вам поможет таблица производных элементарных функций (которую несложно найти в интернете) и правило дифференцирования сложной функции. После дифференцирования квадрата у вас возникнет множитель 2 — т.к. нам все равно предстоит выбирать коэффициент, с которым будет добавлен новый базовый алгоритм, проигноируйте этот множитель при дальнейшем построении алгоритма."
   ]
  },
  {
   "cell_type": "code",
   "execution_count": 3,
   "metadata": {
    "collapsed": true
   },
   "outputs": [],
   "source": [
    "import numpy as np\n",
    "import pandas as pd"
   ]
  },
  {
   "cell_type": "code",
   "execution_count": 23,
   "metadata": {
    "collapsed": true
   },
   "outputs": [],
   "source": [
    "from sklearn import datasets\n",
    "boston = datasets.load_boston()\n",
    "X = boston.data\n",
    "y = boston.target"
   ]
  },
  {
   "cell_type": "code",
   "execution_count": 31,
   "metadata": {
    "collapsed": false
   },
   "outputs": [
    {
     "data": {
      "text/plain": [
       "(506, 13)"
      ]
     },
     "execution_count": 31,
     "metadata": {},
     "output_type": "execute_result"
    }
   ],
   "source": [
    "X.shape"
   ]
  },
  {
   "cell_type": "code",
   "execution_count": 37,
   "metadata": {
    "collapsed": false
   },
   "outputs": [],
   "source": [
    "X_train, X_test = X[:int(.75*len(X)),:], X[int(.75*len(X)):,:]\n",
    "y_train, y_test = y[:int(.75*len(y))], y[int(.75*len(y)):]"
   ]
  },
  {
   "cell_type": "code",
   "execution_count": 66,
   "metadata": {
    "collapsed": true
   },
   "outputs": [],
   "source": [
    "def s(X, y, a_prev):\n",
    "    answers = map(a_prev, X)\n",
    "    return -(np.array(y) - answers)"
   ]
  },
  {
   "cell_type": "markdown",
   "metadata": {},
   "source": [
    "### Задание 2\n",
    "\n",
    "Заведите массив для объектов DecisionTreeRegressor (будем их использовать в качестве базовых алгоритмов) и для вещественных чисел (это будут коэффициенты перед базовыми алгоритмами). В цикле обучите последовательно 50 решающих деревьев с параметрами max_depth=5 и random_state=42 (остальные параметры - по умолчанию). В бустинге зачастую используются сотни и тысячи деревьев, но мы ограничимся 50, чтобы алгоритм работал быстрее, и его было проще отлаживать (т.к. цель задания разобраться, как работает метод). Каждое дерево должно обучаться на одном и том же множестве объектов, но ответы, которые учится прогнозировать дерево, будут меняться в соответствие с полученным в задании 1 правилом. Попробуйте для начала всегда брать коэффициент равным 0.9. Обычно оправдано выбирать коэффициент значительно меньшим - порядка 0.05 или 0.1, но т.к. в нашем учебном примере на стандартном датасете будет всего 50 деревьев, возьмем для начала шаг побольше.\n",
    "\n",
    "В процессе реализации обучения вам потребуется функция, которая будет вычислять прогноз построенной на данный момент композиции деревьев на выборке X:\n",
    "\n",
    "### def gbm_predict(X):\n",
    "### return [sum([coeff * algo.predict([x])[0] for algo, coeff in zip(base_algorithms_list, coefficients_list)]) for x in X]\n",
    "\n",
    "(считаем, что base_algorithms_list - список с базовыми алгоритмами, coefficients_list - список с коэффициентами перед алгоритмами)\n",
    "\n",
    "Эта же функция поможет вам получить прогноз на контрольной выборке и оценить качество работы вашего алгоритма с помощью mean_squared_error в sklearn.metrics. Возведите результат в степень 0.5, чтобы получить RMSE. Полученное значение RMSE — ответ в пункте 2."
   ]
  },
  {
   "cell_type": "code",
   "execution_count": 67,
   "metadata": {
    "collapsed": true
   },
   "outputs": [],
   "source": [
    "def gbm_predict(X):\n",
    "    return [sum([coeff * algo.predict([x])[0] \n",
    "                 for algo, coeff in zip(base_algorithms_list, coefficients_list)\n",
    "                ]) \n",
    "            for x in X\n",
    "           ]"
   ]
  },
  {
   "cell_type": "code",
   "execution_count": 78,
   "metadata": {
    "collapsed": false
   },
   "outputs": [],
   "source": [
    "from sklearn.tree import DecisionTreeRegressor as dtr\n",
    "\n",
    "base_algorithms_list = []\n",
    "coefficients_list = []\n",
    "\n",
    "for i in range(50):\n",
    "    estimator = dtr(max_depth=5, random_state=42)\n",
    "    estimator.fit(X_train, \n",
    "                  np.array(y_train) - gbm_predict(X_train))\n",
    "    base_algorithms_list.append(estimator)\n",
    "    coefficients_list.append(.9)"
   ]
  },
  {
   "cell_type": "code",
   "execution_count": 83,
   "metadata": {
    "collapsed": true
   },
   "outputs": [],
   "source": [
    "from sklearn.metrics import mean_squared_error as mse\n",
    "\n",
    "rmse = lambda y_true, y_pred: mse(y_true, y_pred)**.5"
   ]
  },
  {
   "cell_type": "code",
   "execution_count": 82,
   "metadata": {
    "collapsed": false
   },
   "outputs": [
    {
     "name": "stdout",
     "output_type": "stream",
     "text": [
      "5.47665097417\n"
     ]
    }
   ],
   "source": [
    "y_test_pred = gbm_predict(X_test)\n",
    "res = rmse(y_test, y_test_pred)\n",
    "write_answer(res, 2)\n",
    "print res"
   ]
  },
  {
   "cell_type": "markdown",
   "metadata": {},
   "source": [
    "### Задание 3\n",
    "\n",
    "Вас может также беспокоить, что двигаясь с постоянным шагом, вблизи минимума ошибки ответы на обучающей выборке меняются слишком резко, перескакивая через минимум. Попробуйте уменьшать вес перед каждым алгоритмом с каждой следующей итерацией по формуле 0.9 / (1.0 + i), где i - номер итерации (от 0 до 49). Используйте качество работы алгоритма как ответ в пункте 3. В реальности часто применяется следующая стратегия выбора шага: как только выбран алгоритм, подберем коэффициент перед ним численным методом оптимизации таким образом, чтобы отклонение от правильных ответов было минимальным. Мы не будем предлагать вам реализовать это для выполнения задания, но рекомендуем попробовать разобраться с такой стратегией и реализовать ее при случае для себя."
   ]
  },
  {
   "cell_type": "code",
   "execution_count": 84,
   "metadata": {
    "collapsed": true
   },
   "outputs": [],
   "source": [
    "base_algorithms_list = []\n",
    "coefficients_list = []\n",
    "\n",
    "for i in range(50):\n",
    "    estimator = dtr(max_depth=5, random_state=42)\n",
    "    estimator.fit(X_train, \n",
    "                  np.array(y_train) - gbm_predict(X_train))\n",
    "    base_algorithms_list.append(estimator)\n",
    "    coefficients_list.append(.9/(1.+i*1.))"
   ]
  },
  {
   "cell_type": "code",
   "execution_count": 85,
   "metadata": {
    "collapsed": false
   },
   "outputs": [
    {
     "name": "stdout",
     "output_type": "stream",
     "text": [
      "4.81089328026\n"
     ]
    }
   ],
   "source": [
    "y_test_pred = gbm_predict(X_test)\n",
    "res = rmse(y_test, y_test_pred)\n",
    "write_answer(res, 3)\n",
    "print res"
   ]
  },
  {
   "cell_type": "markdown",
   "metadata": {},
   "source": [
    "### Задание 4\n",
    "\n",
    "Реализованный вами метод - градиентный бустинг над деревьями - очень популярен в машинном обучении. Он представлен как в самой библиотеке sklearn, так и в сторонней библиотеке XGBoost, которая имеет свой питоновский интерфейс. На практике XGBoost работает заметно лучше GradientBoostingRegressor из sklearn, но для этого задания вы можете использовать любую реализацию. Исследуйте, переобучается ли градиентный бустинг с ростом числа итераций (и подумайте, почему), а также с ростом глубины деревьев. На основе наблюдений выпишите через пробел номера правильных из приведенных ниже утверждений в порядке возрастания номера (это будет ответ в п.4):\n",
    "\n",
    "- 1) С увеличением числа деревьев начиная с некоторого момента качество работы градиентного бустинга не меняется существенно.\n",
    "\n",
    "+ 2) С увеличением числа деревьев начиная с некоторого момента градиентный бустинг начинает переобучаться.\n",
    "\n",
    "+ 3) С ростом глубины деревьев, начиная с некоторого момента, качество работы градиентного бустинга на тестовой выборке начинает ухудшаться\n",
    "\n",
    "- 4) С ростом глубины деревьев, начиная с некоторого момента, качество работы градиентного бустинга перестает существенно изменяться"
   ]
  },
  {
   "cell_type": "code",
   "execution_count": 86,
   "metadata": {
    "collapsed": true
   },
   "outputs": [],
   "source": [
    "import xgboost as xgb"
   ]
  },
  {
   "cell_type": "code",
   "execution_count": null,
   "metadata": {
    "collapsed": true
   },
   "outputs": [],
   "source": [
    "# xgb.XGBRegressor(self,\n",
    "#                  max_depth=3, \n",
    "#                  learning_rate=0.1, \n",
    "#                  n_estimators=100, \n",
    "#                  silent=True, \n",
    "#                  objective='reg:linear', \n",
    "#                  nthread=-1, \n",
    "#                  gamma=0, \n",
    "#                  min_child_weight=1, \n",
    "#                  max_delta_step=0, \n",
    "#                  subsample=1, \n",
    "#                  colsample_bytree=1, \n",
    "#                  base_score=0.5, \n",
    "#                  seed=0, \n",
    "#                  missing=None)"
   ]
  },
  {
   "cell_type": "code",
   "execution_count": 101,
   "metadata": {
    "collapsed": false
   },
   "outputs": [
    {
     "name": "stdout",
     "output_type": "stream",
     "text": [
      "n_estimators= 1 : rmse= 13.6612597946\n",
      "n_estimators= 2 : rmse= 12.1286595112\n",
      "n_estimators= 3 : rmse= 10.8374001345\n",
      "n_estimators= 4 : rmse= 9.64173545066\n",
      "n_estimators= 5 : rmse= 8.64072274593\n",
      "n_estimators= 5 : rmse= 8.64072274593\n",
      "n_estimators= 10 : rmse= 5.18556091032\n",
      "n_estimators= 15 : rmse= 4.2249503942\n",
      "n_estimators= 20 : rmse= 4.34007132038\n",
      "n_estimators= 25 : rmse= 4.63856762128\n",
      "n_estimators= 30 : rmse= 4.94223470993\n",
      "n_estimators= 35 : rmse= 5.11121041716\n",
      "n_estimators= 40 : rmse= 5.19724487413\n",
      "n_estimators= 45 : rmse= 5.15179217693\n",
      "n_estimators= 50 : rmse= 5.13507312859\n",
      "n_estimators= 100 : rmse= 4.78117872688\n",
      "n_estimators= 200 : rmse= 4.65872563511\n",
      "n_estimators= 300 : rmse= 4.59420527161\n",
      "n_estimators= 400 : rmse= 4.5917611326\n",
      "n_estimators= 500 : rmse= 4.58394595489\n",
      "n_estimators= 600 : rmse= 4.5890706904\n",
      "n_estimators= 700 : rmse= 4.58291334041\n",
      "n_estimators= 800 : rmse= 4.58701010165\n",
      "n_estimators= 900 : rmse= 4.58965765397\n",
      "n_estimators= 1000 : rmse= 4.59599019849\n"
     ]
    }
   ],
   "source": [
    "for n_estimators in range(1, 6) + range(5, 51, 5) + range(100, 1001, 100):\n",
    "    estimator = xgb.XGBRegressor(n_estimators=n_estimators)\n",
    "    estimator.fit(X_train, y_train)\n",
    "    prediction = estimator.predict(X_test)\n",
    "    print 'n_estimators=', n_estimators,': rmse=', rmse(y_test, prediction)"
   ]
  },
  {
   "cell_type": "code",
   "execution_count": 109,
   "metadata": {
    "collapsed": false
   },
   "outputs": [
    {
     "name": "stdout",
     "output_type": "stream",
     "text": [
      "max_depth= 1 : rmse= 5.84567448655\n",
      "max_depth= 2 : rmse= 5.19298446582\n",
      "max_depth= 3 : rmse= 4.78117872688\n",
      "max_depth= 4 : rmse= 4.92832991345\n",
      "max_depth= 5 : rmse= 4.88285430877\n",
      "max_depth= 7 : rmse= 5.3037654803\n",
      "max_depth= 9 : rmse= 5.16297460846\n",
      "max_depth= 11 : rmse= 5.02039537115\n",
      "max_depth= 13 : rmse= 5.13785617497\n",
      "max_depth= 15 : rmse= 5.21681721538\n",
      "max_depth= 17 : rmse= 5.16948301337\n",
      "max_depth= 19 : rmse= 5.17403069937\n",
      "max_depth= 21 : rmse= 5.18211505173\n",
      "max_depth= 23 : rmse= 5.18211505173\n",
      "max_depth= 25 : rmse= 5.18211505173\n",
      "max_depth= 27 : rmse= 5.18211505173\n",
      "max_depth= 29 : rmse= 5.18211505173\n",
      "max_depth= 31 : rmse= 5.18211505173\n",
      "max_depth= 33 : rmse= 5.18211505173\n",
      "max_depth= 35 : rmse= 5.18211505173\n"
     ]
    }
   ],
   "source": [
    "for max_depth in range(1, 5) + range(5, 36, 2):\n",
    "    estimator = xgb.XGBRegressor(n_estimators=100,\n",
    "                                 max_depth=max_depth)\n",
    "    estimator.fit(X_train, y_train)\n",
    "    prediction = estimator.predict(X_test)\n",
    "    print 'max_depth=', max_depth,': rmse=', rmse(y_test, prediction)\n"
   ]
  },
  {
   "cell_type": "code",
   "execution_count": 114,
   "metadata": {
    "collapsed": true
   },
   "outputs": [],
   "source": [
    "file_name = \"answer_4.txt\"\n",
    "with open(file_name, \"w\") as fout:\n",
    "        fout.write(\"2 3\")"
   ]
  },
  {
   "cell_type": "markdown",
   "metadata": {},
   "source": [
    "### Задание 5\n",
    "\n",
    "Сравните получаемое с помощью градиентного бустинга качество с качеством работы линейной регрессии. Для этого обучите LinearRegression из sklearn.linear_model (с параметрами по умолчанию) на обучающей выборке и оцените для прогнозов полученного алгоритма на тестовой выборке RMSE. Полученное качество - ответ в пункте 5. В данном примере качество работы простой модели должно было оказаться хуже, но не стоит забывать, что так бывает не всегда. В заданиях к этому курсу вы еще встретите пример обратной ситуации."
   ]
  },
  {
   "cell_type": "code",
   "execution_count": 112,
   "metadata": {
    "collapsed": false
   },
   "outputs": [
    {
     "name": "stdout",
     "output_type": "stream",
     "text": [
      "8.27046803494\n"
     ]
    }
   ],
   "source": [
    "from sklearn.linear_model import LinearRegression\n",
    "\n",
    "estimator = LinearRegression()\n",
    "estimator.fit(X_train, y_train)\n",
    "prediction = estimator.predict(X_test)\n",
    "ans = rmse(y_test, prediction)\n",
    "write_answer(ans, 5)\n",
    "print ans"
   ]
  },
  {
   "cell_type": "code",
   "execution_count": null,
   "metadata": {
    "collapsed": true
   },
   "outputs": [],
   "source": []
  }
 ],
 "metadata": {
  "kernelspec": {
   "display_name": "Python 2",
   "language": "python",
   "name": "python2"
  },
  "language_info": {
   "codemirror_mode": {
    "name": "ipython",
    "version": 2
   },
   "file_extension": ".py",
   "mimetype": "text/x-python",
   "name": "python",
   "nbconvert_exporter": "python",
   "pygments_lexer": "ipython2",
   "version": "2.7.11"
  }
 },
 "nbformat": 4,
 "nbformat_minor": 0
}
