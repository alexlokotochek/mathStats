{
 "cells": [
  {
   "cell_type": "code",
   "execution_count": 9,
   "metadata": {
    "collapsed": false
   },
   "outputs": [],
   "source": [
    "import numpy as np \n",
    "import matplotlib as plt\n",
    "import pandas as pd\n",
    "import sklearn\n",
    "import time\n",
    "%matplotlib inline"
   ]
  },
  {
   "cell_type": "code",
   "execution_count": 10,
   "metadata": {
    "collapsed": false,
    "scrolled": true
   },
   "outputs": [
    {
     "name": "stdout",
     "output_type": "stream",
     "text": [
      "(16,)\n"
     ]
    }
   ],
   "source": [
    "f = open('data6.1.txt', 'r')\n",
    "data = np.array([])\n",
    "for s in f:\n",
    "    data = np.append(data, \n",
    "                     float(s))\n",
    "f.close()\n",
    "print data.shape\n",
    "lamb = data[0]\n",
    "data = data[1:]\n",
    "t0 = 1\n",
    "t = 60"
   ]
  },
  {
   "cell_type": "markdown",
   "metadata": {},
   "source": [
    "# $\\lambda - первая\\ строчка\\ файла,\\\\ остальное - t_{i} $\n",
    "# $ t_{0} = 1;\\\\ t = 60;\\\\ lambda=0.362;\\\\ t_{i}: $"
   ]
  },
  {
   "cell_type": "code",
   "execution_count": 11,
   "metadata": {
    "collapsed": false
   },
   "outputs": [
    {
     "data": {
      "text/html": [
       "<div>\n",
       "<table border=\"1\" class=\"dataframe\">\n",
       "  <thead>\n",
       "    <tr style=\"text-align: right;\">\n",
       "      <th></th>\n",
       "      <th>time</th>\n",
       "    </tr>\n",
       "  </thead>\n",
       "  <tbody>\n",
       "    <tr>\n",
       "      <th>0</th>\n",
       "      <td>3.367</td>\n",
       "    </tr>\n",
       "    <tr>\n",
       "      <th>1</th>\n",
       "      <td>10.144</td>\n",
       "    </tr>\n",
       "    <tr>\n",
       "      <th>2</th>\n",
       "      <td>13.410</td>\n",
       "    </tr>\n",
       "    <tr>\n",
       "      <th>3</th>\n",
       "      <td>14.602</td>\n",
       "    </tr>\n",
       "    <tr>\n",
       "      <th>4</th>\n",
       "      <td>22.952</td>\n",
       "    </tr>\n",
       "    <tr>\n",
       "      <th>5</th>\n",
       "      <td>23.522</td>\n",
       "    </tr>\n",
       "    <tr>\n",
       "      <th>6</th>\n",
       "      <td>28.854</td>\n",
       "    </tr>\n",
       "    <tr>\n",
       "      <th>7</th>\n",
       "      <td>40.808</td>\n",
       "    </tr>\n",
       "    <tr>\n",
       "      <th>8</th>\n",
       "      <td>41.484</td>\n",
       "    </tr>\n",
       "    <tr>\n",
       "      <th>9</th>\n",
       "      <td>43.059</td>\n",
       "    </tr>\n",
       "    <tr>\n",
       "      <th>10</th>\n",
       "      <td>43.787</td>\n",
       "    </tr>\n",
       "    <tr>\n",
       "      <th>11</th>\n",
       "      <td>44.818</td>\n",
       "    </tr>\n",
       "    <tr>\n",
       "      <th>12</th>\n",
       "      <td>45.857</td>\n",
       "    </tr>\n",
       "    <tr>\n",
       "      <th>13</th>\n",
       "      <td>52.092</td>\n",
       "    </tr>\n",
       "    <tr>\n",
       "      <th>14</th>\n",
       "      <td>56.937</td>\n",
       "    </tr>\n",
       "  </tbody>\n",
       "</table>\n",
       "</div>"
      ],
      "text/plain": [
       "      time\n",
       "0    3.367\n",
       "1   10.144\n",
       "2   13.410\n",
       "3   14.602\n",
       "4   22.952\n",
       "5   23.522\n",
       "6   28.854\n",
       "7   40.808\n",
       "8   41.484\n",
       "9   43.059\n",
       "10  43.787\n",
       "11  44.818\n",
       "12  45.857\n",
       "13  52.092\n",
       "14  56.937"
      ]
     },
     "execution_count": 11,
     "metadata": {},
     "output_type": "execute_result"
    }
   ],
   "source": [
    "datapd = pd.DataFrame(data)\n",
    "datapd.columns = ['time']\n",
    "datapd"
   ]
  },
  {
   "cell_type": "markdown",
   "metadata": {},
   "source": [
    "### $  N_{t}-N_{s} \\ \\sim \\ Pois(\\lambda \\cdot (t-s))   $\n",
    "### $ E(N_{t}-N_{s})\\ =\\ \\lambda \\cdot (t-s) $\n",
    "### $ N_{t}-N_{s}\\ независима\\ с\\ N_{s} \\rightarrow\\\\ E(N_{t}-N_{s}|N_{s}) = E(N_{t}-N_{s}) $\n",
    "### $ E(N_{t}|N_{s}) = E(N_{t}-N_{s}|N_{s}) + E(N_{s}|N_{s})\\\\ = \\lambda \\cdot (t-s)\\ +\\ N_{s} $"
   ]
  },
  {
   "cell_type": "code",
   "execution_count": 12,
   "metadata": {
    "collapsed": false
   },
   "outputs": [],
   "source": [
    "Ns = []\n",
    "for s in np.arange(t0, t+2):\n",
    "    Ns.append(\n",
    "        len(datapd[datapd['time'] <= s])\n",
    "    )"
   ]
  },
  {
   "cell_type": "code",
   "execution_count": 14,
   "metadata": {
    "collapsed": false
   },
   "outputs": [
    {
     "name": "stdout",
     "output_type": "stream",
     "text": [
      "t E(N_t|N_s)\n",
      "0 sec:  21.72 servers\n",
      "1 sec:  21.358 servers\n",
      "2 sec:  20.996 servers\n",
      "3 sec:  21.634 servers\n",
      "4 sec:  21.272 servers\n",
      "5 sec:  20.91 servers\n",
      "6 sec:  20.548 servers\n",
      "7 sec:  20.186 servers\n",
      "8 sec:  19.824 servers\n",
      "9 sec:  19.462 servers\n",
      "10 sec:  20.1 servers\n",
      "11 sec:  19.738 servers\n",
      "12 sec:  19.376 servers\n",
      "13 sec:  20.014 servers\n",
      "14 sec:  20.652 servers\n",
      "15 sec:  20.29 servers\n",
      "16 sec:  19.928 servers\n",
      "17 sec:  19.566 servers\n",
      "18 sec:  19.204 servers\n",
      "19 sec:  18.842 servers\n",
      "20 sec:  18.48 servers\n",
      "21 sec:  18.118 servers\n",
      "22 sec:  18.756 servers\n",
      "23 sec:  19.394 servers\n",
      "24 sec:  19.032 servers\n",
      "25 sec:  18.67 servers\n",
      "26 sec:  18.308 servers\n",
      "27 sec:  17.946 servers\n",
      "28 sec:  18.584 servers\n",
      "29 sec:  18.222 servers\n",
      "30 sec:  17.86 servers\n",
      "31 sec:  17.498 servers\n",
      "32 sec:  17.136 servers\n",
      "33 sec:  16.774 servers\n",
      "34 sec:  16.412 servers\n",
      "35 sec:  16.05 servers\n",
      "36 sec:  15.688 servers\n",
      "37 sec:  15.326 servers\n",
      "38 sec:  14.964 servers\n",
      "39 sec:  14.602 servers\n",
      "40 sec:  15.24 servers\n",
      "41 sec:  15.878 servers\n",
      "42 sec:  15.516 servers\n",
      "43 sec:  17.154 servers\n",
      "44 sec:  17.792 servers\n",
      "45 sec:  18.43 servers\n",
      "46 sec:  18.068 servers\n",
      "47 sec:  17.706 servers\n",
      "48 sec:  17.344 servers\n",
      "49 sec:  16.982 servers\n",
      "50 sec:  16.62 servers\n",
      "51 sec:  16.258 servers\n",
      "52 sec:  16.896 servers\n",
      "53 sec:  16.534 servers\n",
      "54 sec:  16.172 servers\n",
      "55 sec:  15.81 servers\n",
      "56 sec:  16.448 servers\n",
      "57 sec:  16.086 servers\n",
      "58 sec:  15.724 servers\n",
      "59 sec:  15.362 servers\n",
      "60 sec:  15.0 servers\n"
     ]
    }
   ],
   "source": [
    "print 't', 'E(N_t|N_s)'\n",
    "\n",
    "for s, ns in enumerate(Ns):\n",
    "    print s, 'sec: ', lamb * (t - s) + ns, 'servers'\n",
    "    time.sleep(1)\n"
   ]
  },
  {
   "cell_type": "code",
   "execution_count": null,
   "metadata": {
    "collapsed": true
   },
   "outputs": [],
   "source": []
  }
 ],
 "metadata": {
  "kernelspec": {
   "display_name": "Python 2",
   "language": "python",
   "name": "python2"
  },
  "language_info": {
   "codemirror_mode": {
    "name": "ipython",
    "version": 2
   },
   "file_extension": ".py",
   "mimetype": "text/x-python",
   "name": "python",
   "nbconvert_exporter": "python",
   "pygments_lexer": "ipython2",
   "version": "2.7.11"
  }
 },
 "nbformat": 4,
 "nbformat_minor": 0
}
