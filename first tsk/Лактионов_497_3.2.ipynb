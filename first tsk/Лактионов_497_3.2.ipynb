{
 "cells": [
  {
   "cell_type": "code",
   "execution_count": 75,
   "metadata": {
    "collapsed": true
   },
   "outputs": [],
   "source": [
    "import pandas as pd\n",
    "import numpy as np\n",
    "import matplotlib.pyplot as plt\n",
    "import scipy.stats as sts\n",
    "import math\n",
    "%matplotlib inline"
   ]
  },
  {
   "cell_type": "code",
   "execution_count": 76,
   "metadata": {
    "collapsed": false,
    "scrolled": true
   },
   "outputs": [
    {
     "name": "stdout",
     "output_type": "stream",
     "text": [
      "(1000,)\n"
     ]
    }
   ],
   "source": [
    "f = open('cauchy.txt', 'r')\n",
    "data = np.array([])\n",
    "for s in f:\n",
    "    data = np.append(data, float(s))\n",
    "f.close()\n",
    "print data.shape"
   ]
  },
  {
   "cell_type": "code",
   "execution_count": 83,
   "metadata": {
    "collapsed": false
   },
   "outputs": [
    {
     "name": "stdout",
     "output_type": "stream",
     "text": [
      "N/2:  156.189999999\n",
      "115619\n"
     ]
    }
   ],
   "source": [
    "sample = data[:500]\n",
    "distr = sts.cauchy()\n",
    "\n",
    "import math\n",
    "\n",
    "def Lnfp(theta):\n",
    "    return sum([-1.*math.log(1. + (x-theta)**2.) for x in sample])\n",
    "\n",
    "thetaline = np.arange(-1000.,1000.,.01)\n",
    "res = np.argmax([Lnfp(theta) for theta in thetaline])\n",
    "print 'N/2: ', thetaline[res]"
   ]
  },
  {
   "cell_type": "code",
   "execution_count": 84,
   "metadata": {
    "collapsed": false
   },
   "outputs": [
    {
     "name": "stdout",
     "output_type": "stream",
     "text": [
      "N:  156.199999999\n"
     ]
    }
   ],
   "source": [
    "sample = data\n",
    "res = np.argmax([Lnfp(theta) for theta in thetaline])\n",
    "print 'N: ', thetaline[res]"
   ]
  },
  {
   "cell_type": "code",
   "execution_count": 89,
   "metadata": {
    "collapsed": false
   },
   "outputs": [
    {
     "name": "stdout",
     "output_type": "stream",
     "text": [
      "N/2: \n",
      "   status: 0\n",
      "  success: True\n",
      "     njev: 14\n",
      "     nfev: 42\n",
      " hess_inv: array([[ 0.00377878]])\n",
      "      fun: 652.1853461842097\n",
      "        x: array([ 156.18831671])\n",
      "  message: 'Optimization terminated successfully.'\n",
      "      jac: array([ 0.])\n",
      "      nit: 3\n",
      "\n",
      "\n",
      "\n",
      "N: \n",
      "   status: 2\n",
      "  success: False\n",
      "     njev: 23\n",
      "     nfev: 70\n",
      " hess_inv: array([[  8.01729038e-06]])\n",
      "      fun: 1355.1710309624477\n",
      "        x: array([ 156.20449001])\n",
      "  message: 'Desired error not necessarily achieved due to precision loss.'\n",
      "      jac: array([  1.52587891e-05])\n",
      "      nit: 5\n"
     ]
    }
   ],
   "source": [
    "#а можно было сделать по-нормальному:\n",
    "def LnfpMinimize(x0):\n",
    "    return -Lnfp(x0)\n",
    "\n",
    "sample = data[:500]\n",
    "from scipy.optimize import minimize\n",
    "print 'N/2: \\n',minimize(LnfpMinimize, x0=0, method='BFGS')\n",
    "\n",
    "sample = data\n",
    "print '\\n\\n\\nN: \\n', minimize(LnfpMinimize, x0=0, method='BFGS')"
   ]
  },
  {
   "cell_type": "markdown",
   "metadata": {},
   "source": [
    "### a) 156.18831661\n",
    "### b) 156.20448992"
   ]
  }
 ],
 "metadata": {
  "kernelspec": {
   "display_name": "Python 2",
   "language": "python",
   "name": "python2"
  },
  "language_info": {
   "codemirror_mode": {
    "name": "ipython",
    "version": 2
   },
   "file_extension": ".py",
   "mimetype": "text/x-python",
   "name": "python",
   "nbconvert_exporter": "python",
   "pygments_lexer": "ipython2",
   "version": "2.7.10"
  }
 },
 "nbformat": 4,
 "nbformat_minor": 0
}
