{
 "cells": [
  {
   "cell_type": "code",
   "execution_count": 1,
   "metadata": {
    "collapsed": true
   },
   "outputs": [],
   "source": [
    "import pandas as pd\n",
    "import numpy as np\n",
    "import matplotlib.pyplot as plt\n",
    "import scipy.stats as sts\n",
    "import math\n",
    "%matplotlib inline"
   ]
  },
  {
   "cell_type": "code",
   "execution_count": 7,
   "metadata": {
    "collapsed": false
   },
   "outputs": [
    {
     "name": "stdout",
     "output_type": "stream",
     "text": [
      "(3652,)\n"
     ]
    }
   ],
   "source": [
    "f = open('weibull.txt', 'r')\n",
    "data = np.array([])\n",
    "for s in f:\n",
    "    data = np.append(data, float(s))\n",
    "f.close()\n",
    "print data.shape"
   ]
  },
  {
   "cell_type": "markdown",
   "metadata": {},
   "source": [
    "### a) первые 4 года. Туда точно попал один високосный, значит это 355*3 + 366 дней"
   ]
  },
  {
   "cell_type": "code",
   "execution_count": 13,
   "metadata": {
    "collapsed": false
   },
   "outputs": [
    {
     "data": {
      "text/plain": [
       "(1431,)"
      ]
     },
     "execution_count": 13,
     "metadata": {},
     "output_type": "execute_result"
    }
   ],
   "source": [
    "sample = data[:(355*3 + 366)]\n",
    "sample.shape"
   ]
  },
  {
   "cell_type": "code",
   "execution_count": 49,
   "metadata": {
    "collapsed": false,
    "scrolled": false
   },
   "outputs": [
    {
     "data": {
      "text/plain": [
       "[<matplotlib.lines.Line2D at 0x10872ba90>]"
      ]
     },
     "execution_count": 49,
     "metadata": {},
     "output_type": "execute_result"
    },
    {
     "data": {
      "image/png": "[encoded data removed]",
      "text/plain": [
       "<matplotlib.figure.Figure at 0x1085cf0d0>"
      ]
     },
     "metadata": {},
     "output_type": "display_data"
    }
   ],
   "source": [
    "from math import *\n",
    "\n",
    "from scipy.stats import rv_continuous\n",
    "class my_distr(rv_continuous):\n",
    "    def _pdf(self, x):\n",
    "        if (x >= 0.):\n",
    "            return 1. - exp(-1.*x)\n",
    "        else:\n",
    "            return 0.\n",
    "        \n",
    "distr = my_distr(name='lal')\n",
    "\n",
    "gamma = 3\n",
    "\n",
    "X = np.arange(-1, 2, .01)\n",
    "y = np.array([distr.pdf(np.power(x,gamma)) for x in X])\n",
    "plt.plot(X, y)"
   ]
  },
  {
   "cell_type": "markdown",
   "metadata": {},
   "source": [
    "### $ p(x) = F'(x) = \\gamma \\cdot x^{\\gamma-1} \\cdot e^{-x^\\gamma} $\n",
    "### $ ln(p_i) = ln(\\gamma) + (\\gamma-1)\\cdot ln(x) - x^\\gamma$\n",
    "### ${f}$ монотонна, значит по методу максимального правдоподобия:\n",
    "### ${f} = p(X_{1})...p(X_{N}) \\rightarrow max$ - то же самое, что\n",
    "### $ L = ln(f) = \\sum_{1}^{N}{ln(p_{i})} = N\\cdot ln(\\gamma) + (\\gamma-1)\\cdot \\sum_{1}^{N}ln(X_{i}) - \\sum_{1}^{N}X_{i}^{\\gamma} \\rightarrow max$"
   ]
  },
  {
   "cell_type": "code",
   "execution_count": 99,
   "metadata": {
    "collapsed": false
   },
   "outputs": [
    {
     "name": "stdout",
     "output_type": "stream",
     "text": [
      "1.144\n",
      "13.9315680294\n"
     ]
    }
   ],
   "source": [
    "N = len(sample)\n",
    "def L(lngamma):\n",
    "    return N*lngamma + (np.power(10,lngamma)-1)*(np.log(sample).sum()) - (np.power(sample,np.power(10,gamma))).sum()\n",
    "lngammaLine = np.arange(-2, 2, .001)\n",
    "res = np.argmax([L(lngamma) for lngamma in lngammaLine])\n",
    "print lngammaLine[res]\n",
    "print np.power(10, lngammaLine[res])"
   ]
  },
  {
   "cell_type": "markdown",
   "metadata": {},
   "source": [
    "### b) то же самое, только теперь выборка полная"
   ]
  },
  {
   "cell_type": "code",
   "execution_count": 100,
   "metadata": {
    "collapsed": false
   },
   "outputs": [
    {
     "name": "stdout",
     "output_type": "stream",
     "text": [
      "1.15\n",
      "14.1253754462\n"
     ]
    }
   ],
   "source": [
    "sample = data\n",
    "N = len(sample)\n",
    "res = np.argmax([L(lngamma) for lngamma in lngammaLine])\n",
    "print lngammaLine[res]\n",
    "print np.power(10, lngammaLine[res])"
   ]
  },
  {
   "cell_type": "code",
   "execution_count": null,
   "metadata": {
    "collapsed": true
   },
   "outputs": [],
   "source": []
  }
 ],
 "metadata": {
  "kernelspec": {
   "display_name": "Python 2",
   "language": "python",
   "name": "python2"
  },
  "language_info": {
   "codemirror_mode": {
    "name": "ipython",
    "version": 2
   },
   "file_extension": ".py",
   "mimetype": "text/x-python",
   "name": "python",
   "nbconvert_exporter": "python",
   "pygments_lexer": "ipython2",
   "version": "2.7.10"
  }
 },
 "nbformat": 4,
 "nbformat_minor": 0
}
