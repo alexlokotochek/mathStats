{
 "cells": [
  {
   "cell_type": "code",
   "execution_count": 27,
   "metadata": {
    "collapsed": true
   },
   "outputs": [],
   "source": [
    "import numpy\n",
    "import matplotlib.pyplot as plt\n",
    "import matplotlib.mlab as mlab\n",
    "from mpl_toolkits.mplot3d.axes3d import Axes3D\n",
    "import scipy.stats as st\n",
    "import csv\n",
    "from numpy.linalg import inv\n",
    "%matplotlib inline"
   ]
  },
  {
   "cell_type": "code",
   "execution_count": 28,
   "metadata": {
    "collapsed": false
   },
   "outputs": [],
   "source": [
    "forest_fires = []\n",
    "with open('forestfires.csv', \"rt\", encoding=\"utf-8\") as f:\n",
    "    reader = csv.reader(f)\n",
    "    forest_fires = list(reader)"
   ]
  },
  {
   "cell_type": "code",
   "execution_count": 29,
   "metadata": {
    "collapsed": false
   },
   "outputs": [
    {
     "name": "stdout",
     "output_type": "stream",
     "text": [
      "['X', 'Y', 'summer', 'constant', 'FFMC', 'DMC', 'DC', 'ISI', 'temp', 'RH', 'wind', 'rain', 'area']\n"
     ]
    }
   ],
   "source": [
    "names = forest_fires[0] \n",
    "names[2] = 'summer'\n",
    "names[3] = 'constant'\n",
    "\n",
    "forest_fires = forest_fires[1:]\n",
    "n = len(forest_fires)\n",
    "print(names)"
   ]
  },
  {
   "cell_type": "code",
   "execution_count": 30,
   "metadata": {
    "collapsed": false
   },
   "outputs": [],
   "source": [
    "for i in range(n):\n",
    "    if forest_fires[i][2] in ['jun', 'jul', 'aug']:\n",
    "        forest_fires[i][2] = '1'\n",
    "    else:\n",
    "        forest_fires[i][2] = '0'\n",
    "    forest_fires[i][3] = '1'\n",
    "    forest_fires[i] = [float(x) for x in forest_fires[i]]"
   ]
  },
  {
   "cell_type": "markdown",
   "metadata": {},
   "source": [
    "Обработали данные, заменили месяц на индикатор лета, а день недели - на константу. "
   ]
  },
  {
   "cell_type": "code",
   "execution_count": 45,
   "metadata": {
    "collapsed": true
   },
   "outputs": [],
   "source": [
    "numpy.random.shuffle(forest_fires)"
   ]
  },
  {
   "cell_type": "code",
   "execution_count": 37,
   "metadata": {
    "collapsed": false
   },
   "outputs": [],
   "source": [
    "def test_model(forest_fires, f, inv_f): # возвращает среднеквадратичное отклонение модели\n",
    "    learn_data = forest_fires[:(n * 7 // 10)]\n",
    "    test_data = forest_fires[(n * 7 // 10):]\n",
    "\n",
    "    learn_answer = numpy.matrix([f(x[-1]) for x in learn_data]).transpose()\n",
    "    test_answer = numpy.matrix([f(x[-1]) for x in test_data]).transpose()\n",
    "\n",
    "    learn_data = [x[:-1] for x in learn_data]\n",
    "    test_data = [x[:-1] for x in test_data]\n",
    "    \n",
    "    z = numpy.matrix(learn_data)\n",
    "    estimator = inv(z.transpose() * z) * z.transpose() * learn_answer\n",
    "    \n",
    "    z_test = numpy.matrix(test_data)\n",
    "    test_result = z_test * estimator\n",
    "    \n",
    "    q1 = numpy.array((test_result - test_answer).transpose())[0]\n",
    "    q2 = numpy.array((inv_f(test_result) - inv_f(test_answer)).transpose())[0]\n",
    "    return (numpy.mean(q1 * q1), numpy.mean(q2 * q2))"
   ]
  },
  {
   "cell_type": "code",
   "execution_count": 46,
   "metadata": {
    "collapsed": false
   },
   "outputs": [
    {
     "name": "stdout",
     "output_type": "stream",
     "text": [
      "(1021.0615919540779, 1021.0615919540779)\n"
     ]
    }
   ],
   "source": [
    "print(test_model(forest_fires, (lambda x: x), (lambda x: x)))"
   ]
  },
  {
   "cell_type": "markdown",
   "metadata": {},
   "source": [
    "Разделили выборку в отношении 7 : 3, построили регрессионную модель по первой выборке, среднеквадратичное отклонение ответа по второй получилось очень большим - 1021."
   ]
  },
  {
   "cell_type": "code",
   "execution_count": 47,
   "metadata": {
    "collapsed": false
   },
   "outputs": [
    {
     "name": "stdout",
     "output_type": "stream",
     "text": [
      "(2.773757469231716, 606.68592911347901)\n",
      "(0.47231052180348088, 593.71926971080109)\n",
      "(0.082185112218259776, 614.17712201882318)\n",
      "(0.032839533607965057, 643.888589610238)\n"
     ]
    }
   ],
   "source": [
    "print(test_model(forest_fires, (lambda x: numpy.log(x + 1)), (lambda x: numpy.exp(x) - 1)))\n",
    "print(test_model(forest_fires, (lambda x: numpy.log(x + 10)), (lambda x: numpy.exp(x) - 10)))\n",
    "print(test_model(forest_fires, (lambda x: numpy.log(x + 50)), (lambda x: numpy.exp(x) - 50)))\n",
    "print(test_model(forest_fires, (lambda x: numpy.log(x + 100)), (lambda x: numpy.exp(x) - 100)))"
   ]
  },
  {
   "cell_type": "markdown",
   "metadata": {},
   "source": [
    "Если взять функцию $ln(x+c)$ от площади, среднеквадратичное отклонение поменьше - порядка 600."
   ]
  },
  {
   "cell_type": "code",
   "execution_count": 50,
   "metadata": {
    "collapsed": false
   },
   "outputs": [
    {
     "name": "stdout",
     "output_type": "stream",
     "text": [
      "10.1 593.71909884\n"
     ]
    }
   ],
   "source": [
    "mn_c = 1.0\n",
    "mn = 10 ** 10\n",
    "for c in numpy.arange(0.1, 100.0, 0.1):\n",
    "    s = test_model(forest_fires, (lambda x: numpy.log(x + c)), (lambda x: numpy.exp(x) - c))[1]\n",
    "    if (s < mn):\n",
    "        mn_c = c\n",
    "        mn = s\n",
    "print(mn_c, mn)"
   ]
  },
  {
   "cell_type": "markdown",
   "metadata": {},
   "source": [
    "Константа $c$, при которой для функции $ln(x+c)$ среднеквадратичное отклонение минимальное для данного разбиения выборки - $10.1$, при этом отклонение равно примерно $593,7$."
   ]
  },
  {
   "cell_type": "code",
   "execution_count": 51,
   "metadata": {
    "collapsed": false
   },
   "outputs": [
    {
     "name": "stdout",
     "output_type": "stream",
     "text": [
      "(0.68456814410679867, 9176.5489060272721)\n",
      "(0.37299286988390323, 1046.7676147715981)\n",
      "(0.36681527308325873, 661.50363634638393)\n",
      "(0.3809426275145788, 728.73438954991673)\n",
      "(0.55459805607651425, 4777.2049996172882)\n",
      "(0.28335223229289069, 239.11946608899467)\n",
      "(0.57615267274186821, 12130.547155839524)\n",
      "(0.5052558772991419, 4606.6113210304302)\n",
      "(0.36642183583854315, 1016.8671558606808)\n",
      "(0.42798349555438603, 1119.8426247165592)\n",
      "(0.48050499729721435, 4057.3648721167074)\n",
      "(0.34962427693981513, 638.68661545248904)\n",
      "(0.42678367532605405, 1101.4477515927201)\n",
      "(0.41688818280792195, 647.28451559745974)\n",
      "(0.53894773788958417, 8428.4237391610677)\n",
      "(0.49131005335455019, 4160.5284498750025)\n",
      "(0.37459157257268705, 873.93108280278125)\n",
      "(0.6182451366344236, 1365.8084070166201)\n",
      "(0.44229137610128105, 8319.4499977067389)\n",
      "(0.42050294145004574, 7960.9743433608182)\n"
     ]
    }
   ],
   "source": [
    "for i in range(20):\n",
    "    numpy.random.shuffle(forest_fires)\n",
    "    print(test_model(forest_fires, (lambda x: numpy.log(x + mn_c)), (lambda x: numpy.exp(x) - mn_c)))"
   ]
  },
  {
   "cell_type": "markdown",
   "metadata": {},
   "source": [
    "Однако при других разбиениях на две выборки при данном $c$ отклонения получаются большие и с широким разбросом - от 240 до 12000.\n",
    "Значит, к сожалению, данная модель не подходит для этих данных."
   ]
  }
 ],
 "metadata": {
  "kernelspec": {
   "display_name": "Python 2",
   "language": "python",
   "name": "python2"
  },
  "language_info": {
   "codemirror_mode": {
    "name": "ipython",
    "version": 2
   },
   "file_extension": ".py",
   "mimetype": "text/x-python",
   "name": "python",
   "nbconvert_exporter": "python",
   "pygments_lexer": "ipython2",
   "version": "2.7.11"
  }
 },
 "nbformat": 4,
 "nbformat_minor": 0
}
