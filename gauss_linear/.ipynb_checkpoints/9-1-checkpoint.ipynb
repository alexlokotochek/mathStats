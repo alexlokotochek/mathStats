{
 "cells": [
  {
   "cell_type": "code",
   "execution_count": 1,
   "metadata": {
    "collapsed": true
   },
   "outputs": [],
   "source": [
    "import numpy as np\n",
    "import pandas as pd\n",
    "from matplotlib import pyplot as plt\n",
    "%matplotlib inline"
   ]
  },
  {
   "cell_type": "code",
   "execution_count": 2,
   "metadata": {
    "collapsed": false
   },
   "outputs": [],
   "source": [
    "X = pd.read_csv('forestfires.csv')\n",
    "y, X = X['area'], X.drop('area', axis=1)"
   ]
  },
  {
   "cell_type": "code",
   "execution_count": 3,
   "metadata": {
    "collapsed": false
   },
   "outputs": [
    {
     "data": {
      "text/html": [
       "<div>\n",
       "<table border=\"1\" class=\"dataframe\">\n",
       "  <thead>\n",
       "    <tr style=\"text-align: right;\">\n",
       "      <th></th>\n",
       "      <th>X</th>\n",
       "      <th>Y</th>\n",
       "      <th>month</th>\n",
       "      <th>day</th>\n",
       "      <th>FFMC</th>\n",
       "      <th>DMC</th>\n",
       "      <th>DC</th>\n",
       "      <th>ISI</th>\n",
       "      <th>temp</th>\n",
       "      <th>RH</th>\n",
       "      <th>wind</th>\n",
       "      <th>rain</th>\n",
       "    </tr>\n",
       "  </thead>\n",
       "  <tbody>\n",
       "    <tr>\n",
       "      <th>0</th>\n",
       "      <td>7</td>\n",
       "      <td>5</td>\n",
       "      <td>mar</td>\n",
       "      <td>fri</td>\n",
       "      <td>86.2</td>\n",
       "      <td>26.2</td>\n",
       "      <td>94.3</td>\n",
       "      <td>5.1</td>\n",
       "      <td>8.2</td>\n",
       "      <td>51</td>\n",
       "      <td>6.7</td>\n",
       "      <td>0.0</td>\n",
       "    </tr>\n",
       "    <tr>\n",
       "      <th>1</th>\n",
       "      <td>7</td>\n",
       "      <td>4</td>\n",
       "      <td>oct</td>\n",
       "      <td>tue</td>\n",
       "      <td>90.6</td>\n",
       "      <td>35.4</td>\n",
       "      <td>669.1</td>\n",
       "      <td>6.7</td>\n",
       "      <td>18.0</td>\n",
       "      <td>33</td>\n",
       "      <td>0.9</td>\n",
       "      <td>0.0</td>\n",
       "    </tr>\n",
       "    <tr>\n",
       "      <th>2</th>\n",
       "      <td>7</td>\n",
       "      <td>4</td>\n",
       "      <td>oct</td>\n",
       "      <td>sat</td>\n",
       "      <td>90.6</td>\n",
       "      <td>43.7</td>\n",
       "      <td>686.9</td>\n",
       "      <td>6.7</td>\n",
       "      <td>14.6</td>\n",
       "      <td>33</td>\n",
       "      <td>1.3</td>\n",
       "      <td>0.0</td>\n",
       "    </tr>\n",
       "    <tr>\n",
       "      <th>3</th>\n",
       "      <td>8</td>\n",
       "      <td>6</td>\n",
       "      <td>mar</td>\n",
       "      <td>fri</td>\n",
       "      <td>91.7</td>\n",
       "      <td>33.3</td>\n",
       "      <td>77.5</td>\n",
       "      <td>9.0</td>\n",
       "      <td>8.3</td>\n",
       "      <td>97</td>\n",
       "      <td>4.0</td>\n",
       "      <td>0.2</td>\n",
       "    </tr>\n",
       "    <tr>\n",
       "      <th>4</th>\n",
       "      <td>8</td>\n",
       "      <td>6</td>\n",
       "      <td>mar</td>\n",
       "      <td>sun</td>\n",
       "      <td>89.3</td>\n",
       "      <td>51.3</td>\n",
       "      <td>102.2</td>\n",
       "      <td>9.6</td>\n",
       "      <td>11.4</td>\n",
       "      <td>99</td>\n",
       "      <td>1.8</td>\n",
       "      <td>0.0</td>\n",
       "    </tr>\n",
       "  </tbody>\n",
       "</table>\n",
       "</div>"
      ],
      "text/plain": [
       "   X  Y month  day  FFMC   DMC     DC  ISI  temp  RH  wind  rain\n",
       "0  7  5   mar  fri  86.2  26.2   94.3  5.1   8.2  51   6.7   0.0\n",
       "1  7  4   oct  tue  90.6  35.4  669.1  6.7  18.0  33   0.9   0.0\n",
       "2  7  4   oct  sat  90.6  43.7  686.9  6.7  14.6  33   1.3   0.0\n",
       "3  8  6   mar  fri  91.7  33.3   77.5  9.0   8.3  97   4.0   0.2\n",
       "4  8  6   mar  sun  89.3  51.3  102.2  9.6  11.4  99   1.8   0.0"
      ]
     },
     "execution_count": 3,
     "metadata": {},
     "output_type": "execute_result"
    }
   ],
   "source": [
    "X.head()"
   ]
  },
  {
   "cell_type": "markdown",
   "metadata": {},
   "source": [
    "### Добавим bias == 1."
   ]
  },
  {
   "cell_type": "code",
   "execution_count": 4,
   "metadata": {
    "collapsed": true
   },
   "outputs": [],
   "source": [
    "bias = pd.DataFrame([1.]*len(X))\n",
    "X = pd.concat([X, bias], axis=1, join_axes=[X.index])\n",
    "X.columns.values[-1] = 'bias'"
   ]
  },
  {
   "cell_type": "code",
   "execution_count": 5,
   "metadata": {
    "collapsed": false
   },
   "outputs": [
    {
     "data": {
      "text/plain": [
       "((517, 13),\n",
       " (517,),\n",
       " Index([u'X', u'Y', u'month', u'day', u'FFMC', u'DMC', u'DC', u'ISI', u'temp',\n",
       "        u'RH', u'wind', u'rain', u'bias'],\n",
       "       dtype='object'))"
      ]
     },
     "execution_count": 5,
     "metadata": {},
     "output_type": "execute_result"
    }
   ],
   "source": [
    "X.shape, y.shape, X.columns"
   ]
  },
  {
   "cell_type": "markdown",
   "metadata": {},
   "source": [
    "### и индикатор лета"
   ]
  },
  {
   "cell_type": "code",
   "execution_count": 6,
   "metadata": {
    "collapsed": false
   },
   "outputs": [],
   "source": [
    "X['is_summer'] = [1 if (x[2]=='jun' or x[2]=='jul' or x[2]=='aug') else 0 for x in X.values]\n",
    "del X['month']"
   ]
  },
  {
   "cell_type": "code",
   "execution_count": 7,
   "metadata": {
    "collapsed": false,
    "scrolled": true
   },
   "outputs": [
    {
     "data": {
      "text/html": [
       "<div>\n",
       "<table border=\"1\" class=\"dataframe\">\n",
       "  <thead>\n",
       "    <tr style=\"text-align: right;\">\n",
       "      <th></th>\n",
       "      <th>X</th>\n",
       "      <th>Y</th>\n",
       "      <th>day</th>\n",
       "      <th>FFMC</th>\n",
       "      <th>DMC</th>\n",
       "      <th>DC</th>\n",
       "      <th>ISI</th>\n",
       "      <th>temp</th>\n",
       "      <th>RH</th>\n",
       "      <th>wind</th>\n",
       "      <th>rain</th>\n",
       "      <th>bias</th>\n",
       "      <th>is_summer</th>\n",
       "    </tr>\n",
       "  </thead>\n",
       "  <tbody>\n",
       "    <tr>\n",
       "      <th>512</th>\n",
       "      <td>4</td>\n",
       "      <td>3</td>\n",
       "      <td>sun</td>\n",
       "      <td>81.6</td>\n",
       "      <td>56.7</td>\n",
       "      <td>665.6</td>\n",
       "      <td>1.9</td>\n",
       "      <td>27.8</td>\n",
       "      <td>32</td>\n",
       "      <td>2.7</td>\n",
       "      <td>0.0</td>\n",
       "      <td>1.0</td>\n",
       "      <td>1</td>\n",
       "    </tr>\n",
       "    <tr>\n",
       "      <th>513</th>\n",
       "      <td>2</td>\n",
       "      <td>4</td>\n",
       "      <td>sun</td>\n",
       "      <td>81.6</td>\n",
       "      <td>56.7</td>\n",
       "      <td>665.6</td>\n",
       "      <td>1.9</td>\n",
       "      <td>21.9</td>\n",
       "      <td>71</td>\n",
       "      <td>5.8</td>\n",
       "      <td>0.0</td>\n",
       "      <td>1.0</td>\n",
       "      <td>1</td>\n",
       "    </tr>\n",
       "    <tr>\n",
       "      <th>514</th>\n",
       "      <td>7</td>\n",
       "      <td>4</td>\n",
       "      <td>sun</td>\n",
       "      <td>81.6</td>\n",
       "      <td>56.7</td>\n",
       "      <td>665.6</td>\n",
       "      <td>1.9</td>\n",
       "      <td>21.2</td>\n",
       "      <td>70</td>\n",
       "      <td>6.7</td>\n",
       "      <td>0.0</td>\n",
       "      <td>1.0</td>\n",
       "      <td>1</td>\n",
       "    </tr>\n",
       "    <tr>\n",
       "      <th>515</th>\n",
       "      <td>1</td>\n",
       "      <td>4</td>\n",
       "      <td>sat</td>\n",
       "      <td>94.4</td>\n",
       "      <td>146.0</td>\n",
       "      <td>614.7</td>\n",
       "      <td>11.3</td>\n",
       "      <td>25.6</td>\n",
       "      <td>42</td>\n",
       "      <td>4.0</td>\n",
       "      <td>0.0</td>\n",
       "      <td>1.0</td>\n",
       "      <td>1</td>\n",
       "    </tr>\n",
       "    <tr>\n",
       "      <th>516</th>\n",
       "      <td>6</td>\n",
       "      <td>3</td>\n",
       "      <td>tue</td>\n",
       "      <td>79.5</td>\n",
       "      <td>3.0</td>\n",
       "      <td>106.7</td>\n",
       "      <td>1.1</td>\n",
       "      <td>11.8</td>\n",
       "      <td>31</td>\n",
       "      <td>4.5</td>\n",
       "      <td>0.0</td>\n",
       "      <td>1.0</td>\n",
       "      <td>0</td>\n",
       "    </tr>\n",
       "  </tbody>\n",
       "</table>\n",
       "</div>"
      ],
      "text/plain": [
       "     X  Y  day  FFMC    DMC     DC   ISI  temp  RH  wind  rain  bias  \\\n",
       "512  4  3  sun  81.6   56.7  665.6   1.9  27.8  32   2.7   0.0   1.0   \n",
       "513  2  4  sun  81.6   56.7  665.6   1.9  21.9  71   5.8   0.0   1.0   \n",
       "514  7  4  sun  81.6   56.7  665.6   1.9  21.2  70   6.7   0.0   1.0   \n",
       "515  1  4  sat  94.4  146.0  614.7  11.3  25.6  42   4.0   0.0   1.0   \n",
       "516  6  3  tue  79.5    3.0  106.7   1.1  11.8  31   4.5   0.0   1.0   \n",
       "\n",
       "     is_summer  \n",
       "512          1  \n",
       "513          1  \n",
       "514          1  \n",
       "515          1  \n",
       "516          0  "
      ]
     },
     "execution_count": 7,
     "metadata": {},
     "output_type": "execute_result"
    }
   ],
   "source": [
    "X.tail()"
   ]
  },
  {
   "cell_type": "markdown",
   "metadata": {},
   "source": [
    "### уберём день (почему - ниже)"
   ]
  },
  {
   "cell_type": "code",
   "execution_count": 8,
   "metadata": {
    "collapsed": true
   },
   "outputs": [],
   "source": [
    "del X['day']"
   ]
  },
  {
   "cell_type": "markdown",
   "metadata": {},
   "source": [
    "Надо векторизовать категориальные признаки (сделать 12 индикаторов для месяцев и 7 индикаторов для недель), но матрица может получиться вырожденной. Для решения проблемы нулевых строчек (которые могут получиться также после нормирования) надо приписать справа к Z единичную матрицу, домноженную на очень маленький коэффициент (который подбирается как гиперпараметр), что эквивалентно L2-регуляризации. А чтобы избавиться от нулевых столбцов, лучше забыть об аналитическом решении (при больших данных и размерностях работать с матрицами очень неприятно, особенно обращать и каждый раз выкидывать нулевые столбцы) и вспомнить про градиентный спуск по ошибке MSE, который очень легко реализуется (прибавляем антиградиент MSE по вектору theta со знаком минус, домноженный на маленький коэффициент). Но у нас курс вроде бы не по машинному обучению, так что улучшение качества сейчас - не первоочередная задача."
   ]
  },
  {
   "cell_type": "code",
   "execution_count": 9,
   "metadata": {
    "collapsed": false
   },
   "outputs": [],
   "source": [
    "from sklearn.cross_validation import train_test_split\n",
    "\n",
    "def cross_validation_shuffle():\n",
    "    return train_test_split(X, \n",
    "                            y, \n",
    "                            test_size=0.3)"
   ]
  },
  {
   "cell_type": "markdown",
   "metadata": {},
   "source": [
    "### $X = Z\\theta = Z_1\\theta_1 + ... + Z_n\\theta_n,$\n",
    "### где $Z_i$ - значения i-го признака (вектор), а $\\theta_i$ - вес i-го признака в модели (число)\n",
    "### Воспользуемся методом наименьших квадратов:\n",
    "### $ \\theta' = argmin_\\theta ||X-Z\\theta||^2 $\n",
    "$ (X−Z\\theta)^2 = (X−Z\\theta)^T (X−Z\\theta) = X^T X − X^T Z \\theta − \\theta^T Z^T X + \\theta^T Z^T Z \\theta = $\n",
    "\n",
    "$ = X^T X − 2X^T Z\\theta + \\theta^T (Z^T Z)\\theta. $\n",
    "\n",
    "$||X −Z\\theta||^2$ — это число, поэтому $X^T Z\\theta \\ и\\ \\theta^T Z^T X$ — тоже числа.\n",
    "\n",
    "Но ∀a ∈ R $a = a^T$, поэтому $X^TZ\\theta = (X^TZ\\theta)^T = \\theta^T Z^T X.$\n",
    "\n",
    "\n",
    "Дифференцируем по $\\theta_i$ и приравниваем к нулю, чтобы найти минимум:\n",
    "\n",
    "$−2(X^T Z)_i+2(\\theta^T Z^T Z)_i = 0 \\rightarrow $\n",
    "\n",
    "$X^T Z − \\theta^T Z^T Z = 0 \\rightarrow $\n",
    "\n",
    "### $ \\theta^* = (Z^T Z)^{-1} Z^T X $\n",
    "\n",
    "где X - это мой y (ответы), а Z - это мой X (объекты-признаки)\n"
   ]
  },
  {
   "cell_type": "code",
   "execution_count": 11,
   "metadata": {
    "collapsed": false
   },
   "outputs": [],
   "source": [
    "def fit_and_predict(X_train_, y_train_, X_test_):\n",
    "    Z = X_train_.values\n",
    "    Z_squared = np.dot(Z.transpose(), Z)\n",
    "    Z_squared_inv = np.linalg.matrix_power(Z_squared, -1)\n",
    "    Z_y = np.dot (Z.transpose(), y_train_)\n",
    "    thetas = np.dot(Z_squared_inv,  Z_y)\n",
    "\n",
    "    return np.dot(X_test_.values, thetas)\n",
    "    \n",
    "def MSE(predictions, y_true):\n",
    "    return np.mean([(pred-real)**2. for pred, real in zip(predictions, y_true)])\n"
   ]
  },
  {
   "cell_type": "code",
   "execution_count": 15,
   "metadata": {
    "collapsed": false
   },
   "outputs": [
    {
     "name": "stdout",
     "output_type": "stream",
     "text": [
      "1434.1530492\n"
     ]
    }
   ],
   "source": [
    "(X_train, \n",
    " X_test, \n",
    " y_train, \n",
    " y_test) = cross_validation_shuffle()\n",
    "predictions = fit_and_predict(X_train, y_train, X_test)\n",
    "print MSE(predictions, y_test)"
   ]
  },
  {
   "cell_type": "markdown",
   "metadata": {},
   "source": [
    "### Число в ячейке выше = MSE, если предсказывать логнормальное распределение напрямую. Оно ооочень сильно зависит от того, как разбить выборку на train и test (от 400 до 12000). Попробуем вместо этого предсказывать его логарифм, а потом возводить в него экспоненту.\n"
   ]
  },
  {
   "cell_type": "code",
   "execution_count": 36,
   "metadata": {
    "collapsed": false
   },
   "outputs": [
    {
     "data": {
      "image/png": "[encoded data removed]",
      "text/plain": [
       "<matplotlib.figure.Figure at 0x11fc09fd0>"
      ]
     },
     "metadata": {},
     "output_type": "display_data"
    },
    {
     "data": {
      "image/png": "[encoded data removed]",
      "text/plain": [
       "<matplotlib.figure.Figure at 0x11ac12750>"
      ]
     },
     "metadata": {},
     "output_type": "display_data"
    }
   ],
   "source": [
    "plt.hist(y, bins=100, label='area')\n",
    "plt.show()\n",
    "plt.hist(np.log(y+[0.1]*len(y)), bins=10, label='ln(area+eps)')\n",
    "plt.show()"
   ]
  },
  {
   "cell_type": "markdown",
   "metadata": {},
   "source": [
    "Сделайте для area преобразование f(x) = ln(c+x) и постройте для нее регрессионную\n",
    "модель. Посчитайте среднеквадратичную ошибку для преобразованных значений по\n",
    "данному правилу и для исходных, применив в последнем случае к оценкам обратное\n",
    "к f преобразование. При каком c предсказания получаются лучше всего?\n"
   ]
  },
  {
   "cell_type": "code",
   "execution_count": 16,
   "metadata": {
    "collapsed": true
   },
   "outputs": [],
   "source": [
    "def fit_and_predict_lognormal(c, X_train_, y_train_, X_test_):\n",
    "    y_train_log = np.log(y_train_ + [c]*len(y_train_))\n",
    "    predictions = fit_and_predict(X_train, y_train_log, X_test)\n",
    "    # обратное преобразование: f=ln(area+c), area=e^f-c\n",
    "    return np.array([np.e**p-c for p in predictions])"
   ]
  },
  {
   "cell_type": "code",
   "execution_count": 18,
   "metadata": {
    "collapsed": false
   },
   "outputs": [
    {
     "name": "stdout",
     "output_type": "stream",
     "text": [
      "best c: 37.9\n",
      "best mse with lognormal: 802.751452778\n",
      "mse without lognormal:  977.515383206\n",
      "train_test_split ONCE:\n"
     ]
    },
    {
     "data": {
      "image/png": "[encoded data removed]",
      "text/plain": [
       "<matplotlib.figure.Figure at 0x109b302d0>"
      ]
     },
     "metadata": {},
     "output_type": "display_data"
    }
   ],
   "source": [
    "lognormal_mse_errors = []\n",
    "min_error = 10**10\n",
    "best_c = -1\n",
    "\n",
    "(X_train, \n",
    " X_test, \n",
    " y_train, \n",
    " y_test) = cross_validation_shuffle()\n",
    "    \n",
    "predictions = fit_and_predict(X_train, y_train, X_test)\n",
    "mse_error = MSE(predictions, y_test)\n",
    "    \n",
    "for c in np.arange(0.1, 500., .1):    \n",
    "    predictions_lognormal = fit_and_predict_lognormal(c, X_train, y_train, X_test)\n",
    "    lognormal_mse_errors.append(MSE(predictions_lognormal, y_test))\n",
    "    \n",
    "    if (lognormal_mse_errors[-1] < min_error):\n",
    "        min_error = lognormal_mse_errors[-1]\n",
    "        best_c = c\n",
    "\n",
    "print 'best c:', best_c\n",
    "print 'best mse with lognormal:', min_error\n",
    "print 'mse without lognormal: ', mse_error\n",
    "print 'train_test_split ONCE:'\n",
    "plt.figure(figsize=(20,10))\n",
    "plt.xlabel('100*c')\n",
    "plt.ylabel('mse')\n",
    "trash = plt.plot(range(len(lognormal_mse_errors)), [mse_error]*len(lognormal_mse_errors), label='without log(y+c)')\n",
    "trash = plt.plot(range(len(lognormal_mse_errors)), lognormal_mse_errors, label='with log(y+c)')\n",
    "trash = plt.legend()"
   ]
  },
  {
   "cell_type": "markdown",
   "metadata": {},
   "source": [
    "При выбраном c сделайте разбиение выборки в соотношении 7:3 разными способа-\n",
    "ми (перемешивая каждый раз). Сильно ли зависит качество от способа разбиения?\n",
    "Сделайте выводы."
   ]
  },
  {
   "cell_type": "code",
   "execution_count": 29,
   "metadata": {
    "collapsed": false,
    "scrolled": false
   },
   "outputs": [
    {
     "name": "stdout",
     "output_type": "stream",
     "text": [
      "train_test_split EVERY TIME:\n"
     ]
    },
    {
     "data": {
      "text/plain": [
       "<matplotlib.figure.Figure at 0x11c278210>"
      ]
     },
     "metadata": {},
     "output_type": "display_data"
    },
    {
     "data": {
      "image/png": "[encoded data removed]",
      "text/plain": [
       "<matplotlib.figure.Figure at 0x11c278150>"
      ]
     },
     "metadata": {},
     "output_type": "display_data"
    }
   ],
   "source": [
    "lognormal_mse_errors = []\n",
    "    \n",
    "for i in np.arange(1, 5000, 1): \n",
    "    \n",
    "    (X_train, \n",
    "     X_test, \n",
    "     y_train, \n",
    "     y_test) = cross_validation_shuffle()\n",
    "    \n",
    "    predictions_lognormal = fit_and_predict_lognormal(best_c, X_train, y_train, X_test)\n",
    "    lognormal_mse_errors.append(MSE(predictions_lognormal, y_test))\n",
    "\n",
    "plt.figure(figsize=(20,10))\n",
    "print 'train_test_split EVERY TIME:'\n",
    "plt.figure(figsize=(20,10))\n",
    "plt.ylabel('mse(this_split, c=best_c)')\n",
    "trash = plt.hist(lognormal_mse_errors, bins=50, \n",
    "                 label='log(y+c) with different split every time histogram')\n",
    "trash = plt.legend()"
   ]
  },
  {
   "cell_type": "markdown",
   "metadata": {},
   "source": [
    "### распределение ошибок при фиксированном С в преобразовании ln(area+c) -> e^predict - c -> mse похоже на смесь 4 нормальных, то есть разбиения выборки на train и test бывает с точки зрения этой метрики 4 видов (не очень понятно, почему)"
   ]
  },
  {
   "cell_type": "markdown",
   "metadata": {},
   "source": [
    "# Вывод:\n",
    "### В задании сказано, что перед кросс-валидацией на train (0.7) и test (0.3) желательно перемешать выборку. Это плохо сказывается на качестве, потому что данные отсортированы по времени и мы должны предсказывать будущее, исходя из прошлого - поэтому переобучаемся. Например, была большая area в какой-то день, а на следующий это отразилось на датчиках (температура, ещё что-то, в общем, могло повлиять) - таким образом в линейной модели будут большие веса у таких \"последствий\" вместо больших весов у \"предвестников\". По-хорошему, при разбиении выборки надо сохранять хронологическую последовательность, если она есть.\n",
    "### Именно поэтому наша кросс-валидация сильно зависит от рандома, так как в train каждый раз могут попасть, а могут не попасть данные из будущего относительно элементов test.\n",
    "\n",
    "### Предсказание с преобразованием log(y+c) чувствительно к слишком большим c. Также точно можем сказать, что преобразование помогает, если взять подходящее с, но не всегда (при неудачном разбиении выборки оно может быть хуже, чем без преобразования)"
   ]
  },
  {
   "cell_type": "code",
   "execution_count": null,
   "metadata": {
    "collapsed": true
   },
   "outputs": [],
   "source": []
  }
 ],
 "metadata": {
  "kernelspec": {
   "display_name": "Python 2",
   "language": "python",
   "name": "python2"
  },
  "language_info": {
   "codemirror_mode": {
    "name": "ipython",
    "version": 2
   },
   "file_extension": ".py",
   "mimetype": "text/x-python",
   "name": "python",
   "nbconvert_exporter": "python",
   "pygments_lexer": "ipython2",
   "version": "2.7.11"
  }
 },
 "nbformat": 4,
 "nbformat_minor": 0
}
