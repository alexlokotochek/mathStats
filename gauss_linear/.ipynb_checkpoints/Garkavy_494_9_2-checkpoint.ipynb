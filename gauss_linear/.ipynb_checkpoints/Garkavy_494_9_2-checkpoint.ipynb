{
 "cells": [
  {
   "cell_type": "code",
   "execution_count": 1,
   "metadata": {
    "collapsed": true
   },
   "outputs": [],
   "source": [
    "import numpy\n",
    "import matplotlib.pyplot as plt\n",
    "import time\n",
    "import scipy.stats as st\n",
    "\n",
    "%matplotlib inline"
   ]
  },
  {
   "cell_type": "code",
   "execution_count": 4,
   "metadata": {
    "collapsed": true
   },
   "outputs": [],
   "source": [
    "input = open(\"Гаркавый_494_9_2.txt\", 'r')\n",
    "X = list(map(float, input.readlines()))\n",
    "input.close()\n",
    "n = len(X) - 1"
   ]
  },
  {
   "cell_type": "markdown",
   "metadata": {},
   "source": [
    "Из решения теоретической задачи мы знаем следующие оценки:\n",
    "\n",
    "$\\hat {\\beta_1} = X_0$\n",
    "\n",
    "$\\hat {\\beta_2} = \\frac{X_n - X_0}{n}$\n",
    "\n",
    "$\\hat {\\sigma^2} = \\frac{1}{n-1} \\Sigma{(X_i - X_{i-1} - \\frac{X_n - X_0}{n})^2}$\n",
    "\n",
    "$\\hat {\\sigma_t^2} = \\frac{\\hat {\\sigma^2}}{(\\hat {\\beta_2})^2}$"
   ]
  },
  {
   "cell_type": "code",
   "execution_count": 13,
   "metadata": {
    "collapsed": false
   },
   "outputs": [
    {
     "name": "stdout",
     "output_type": "stream",
     "text": [
      "269.990991 7.23645825 0.314351660121 0.00600293494127\n"
     ]
    }
   ],
   "source": [
    "beta1 = X[0]\n",
    "beta2 = (X[n] - X[0]) / n\n",
    "sigma2 = numpy.sum([(X[i] - X[i - 1] - beta2) ** 2  for i in range(1, n + 1)]) / (n - 1)\n",
    "sigma2t = sigma2 / (beta2 ** 2)\n",
    "print(beta1, beta2, sigma2, sigma2t)"
   ]
  },
  {
   "cell_type": "code",
   "execution_count": 12,
   "metadata": {
    "collapsed": false
   },
   "outputs": [],
   "source": [
    "output = open(\"494 Гаркавый Андрей.txt\", 'w')\n",
    "output.write(str(beta1) + \" \" + str(beta2) + \" \" + str(sigma2) + \" \" + str(sigma2t))\n",
    "output.close()"
   ]
  }
 ],
 "metadata": {
  "kernelspec": {
   "display_name": "Python 2",
   "language": "python",
   "name": "python2"
  },
  "language_info": {
   "codemirror_mode": {
    "name": "ipython",
    "version": 2
   },
   "file_extension": ".py",
   "mimetype": "text/x-python",
   "name": "python",
   "nbconvert_exporter": "python",
   "pygments_lexer": "ipython2",
   "version": "2.7.11"
  }
 },
 "nbformat": 4,
 "nbformat_minor": 0
}
