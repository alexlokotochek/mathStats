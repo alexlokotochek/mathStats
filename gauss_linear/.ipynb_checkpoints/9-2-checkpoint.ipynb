{
 "cells": [
  {
   "cell_type": "code",
   "execution_count": 1,
   "metadata": {
    "collapsed": true
   },
   "outputs": [],
   "source": [
    "import numpy as np\n",
    "import pandas as pd\n",
    "from matplotlib import pyplot as plt\n",
    "%matplotlib inline"
   ]
  },
  {
   "cell_type": "markdown",
   "metadata": {},
   "source": [
    "Файлы с данными.\n",
    "\n",
    "Все X_i за одну минуты. Данные в метрах.\n",
    "\n",
    "--------------------\n",
    "\n",
    "На почту нужно прислать файл с точно таким же названием (ОБЯЗАТЕЛЬНО!), который должен содержать четыре числа через ПРОБЕЛ:\n",
    "\n",
    "оценка бета1, оценка бета2, оценка сигмы, оценка дисперсии отсчета времени.\n",
    "\n",
    "Если вы не можете посчитать какое либо из этих чисел, напишите вместо него -1."
   ]
  },
  {
   "cell_type": "markdown",
   "metadata": {},
   "source": [
    "Пусть Xi = β1 +iβ2 +ε0 +...+εi\n",
    ", i = 0, 1, ..., n — расстояния, которое проехал трамвай\n",
    "за i секунд по показанию датчика. Здесь β1 — начальное расстояние, β2 — скорость\n",
    "трамвая, ε0 — ошибка начального показания датчика. Трамвай едет с постоянной\n",
    "скоростью, и через каждую секунду датчик фиксирует расстояние, которое проехал\n",
    "трамвай. Отсчет времени идет от предыдущего замера, причем отсчет происходит с\n",
    "ошибкой. Для i = 1, ..., n величина εi есть ошибка приращения расстояния, то есть\n",
    "εi = ε\n",
    "t\n",
    "iβ2, где ε\n",
    "t\n",
    "i — ошибка отсчета времени. Все ошибки εi независимы и распределены\n",
    "по закону N(0, σ2\n",
    "). Сведите задачу к линейной модели и найдите оценки наименьших\n",
    "квадратов для начального расстояния β1 и скорости β2, а также несмещенную оценку\n",
    "для σ\n",
    "2\n",
    ", из которой выразите оценку дисперсии отсчета времени. Данные взять из\n",
    "файла на диске. Сделайте выводы."
   ]
  },
  {
   "cell_type": "code",
   "execution_count": 2,
   "metadata": {
    "collapsed": false
   },
   "outputs": [
    {
     "name": "stdout",
     "output_type": "stream",
     "text": [
      "(61,)\n",
      "[ 468.367238  471.083623  474.477515  478.455349  482.015954  485.730176\n",
      "  488.269586  491.097188  494.623976  497.694844  500.998468  504.408757\n",
      "  506.624776  510.581529  513.287009  516.240371  519.945329  523.082288\n",
      "  527.018144  529.344306  532.898722  536.221207  539.365165  543.158299\n",
      "  546.856539  549.783665  552.309057  555.235217  558.433252  560.500868\n",
      "  564.266046  567.352197  570.963123  574.660961  579.115057  581.810758\n",
      "  585.418069  588.543551  591.408113  595.335381  597.934424  600.992979\n",
      "  603.175741  606.654923  608.250083  611.495834  615.836859  618.718928\n",
      "  623.621081  626.329854  629.392695  633.563871  636.1173    639.43663\n",
      "  643.200442  645.587463  649.134211  653.160118  656.532688  660.260692\n",
      "  663.337506]\n"
     ]
    }
   ],
   "source": [
    "f = open('data.txt', 'r')\n",
    "X = np.array([])\n",
    "for s in f:\n",
    "    X = np.append(X, \n",
    "                  float(s))\n",
    "f.close()\n",
    "\n",
    "n = len(X) - 1\n",
    "print X.shape\n",
    "print X"
   ]
  },
  {
   "cell_type": "markdown",
   "metadata": {},
   "source": [
    "Оценки из теоретической задачи 9-2\n",
    "\n",
    "$\\beta_1^* = X_0$\n",
    "\n",
    "$\\beta_2^* = \\frac{X_n - X_0}{n}$\n",
    "\n",
    "$(\\sigma^2)^* = \\frac{1}{n-1} \\sum\\ (X_i - X_{i-1} - \\frac{X_n - X_0}{n})^2$\n",
    "\n",
    "$(\\sigma_t^2)^* = \\frac{(\\sigma^2)^*}{(\\beta_2^*)^2}$"
   ]
  },
  {
   "cell_type": "code",
   "execution_count": 3,
   "metadata": {
    "collapsed": false
   },
   "outputs": [
    {
     "name": "stdout",
     "output_type": "stream",
     "text": [
      "beta_1: 468.367238\n",
      "beta_2: 3.24950446667\n",
      "sigma_2: 0.396944908097\n",
      "sigma_2_t: 0.0375920455945\n"
     ]
    }
   ],
   "source": [
    "beta_1, beta_2 = X[0], (X[n]-X[0])*(1./n)\n",
    "sigma_2 = np.sum([(X[i]-X[i-1]-beta_2)**2. for i in range(1, len(X))])*(1./(n-1.))\n",
    "sigma_2_t = sigma_2/(beta_2**2.)\n",
    "\n",
    "print 'beta_1:', beta_1\n",
    "print 'beta_2:', beta_2\n",
    "print 'sigma_2:', sigma_2\n",
    "print 'sigma_2_t:', sigma_2_t"
   ]
  },
  {
   "cell_type": "code",
   "execution_count": 4,
   "metadata": {
    "collapsed": true
   },
   "outputs": [],
   "source": [
    "out = open(\"497 Лактионов Александр.txt\", 'w')\n",
    "out.write(str(beta_1)+\" \"+str(beta_2)+\" \"+str(sigma_2)+\" \"+str(sigma_2_t))\n",
    "out.close()"
   ]
  },
  {
   "cell_type": "markdown",
   "metadata": {
    "collapsed": true
   },
   "source": [
    "### Вывод:\n",
    "Дисперсии получились очень маленькие, значит, оценка - хорошая "
   ]
  },
  {
   "cell_type": "code",
   "execution_count": null,
   "metadata": {
    "collapsed": true
   },
   "outputs": [],
   "source": []
  }
 ],
 "metadata": {
  "kernelspec": {
   "display_name": "Python 2",
   "language": "python",
   "name": "python2"
  },
  "language_info": {
   "codemirror_mode": {
    "name": "ipython",
    "version": 2
   },
   "file_extension": ".py",
   "mimetype": "text/x-python",
   "name": "python",
   "nbconvert_exporter": "python",
   "pygments_lexer": "ipython2",
   "version": "2.7.11"
  }
 },
 "nbformat": 4,
 "nbformat_minor": 0
}
