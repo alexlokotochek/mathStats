{
 "cells": [
  {
   "cell_type": "code",
   "execution_count": 4,
   "metadata": {
    "collapsed": true
   },
   "outputs": [],
   "source": [
    "import numpy as np\n",
    "import matplotlib as plt\n",
    "%matplotlib inline"
   ]
  },
  {
   "cell_type": "markdown",
   "metadata": {},
   "source": [
    "## Реализовать поиск L2-нормы функции\n",
    "# $ L_{2,\\ [a, b]} (f) = \\int_a^b f^2(x) dx $\n",
    "## Будем считать интеграл методом средних прямоугольников,\n",
    "## нам дано количество точек разбиения $[a,b]$ - на n частей:\n",
    "# $[a,b] = \\sqcup_{i=1}^n { [a_i,b_i] } $\n",
    "# $ \\int_a^b f^2(x) dx = \\sum_{i=1}^n [\\ {f^2(\\frac{a_i+b_i}{2})\\cdot (b_i-a_i)}\\ ] $\n",
    "# $b_i-a_i = const = \\frac{b-a}{n-1} $\n"
   ]
  },
  {
   "cell_type": "code",
   "execution_count": 5,
   "metadata": {
    "collapsed": false
   },
   "outputs": [],
   "source": [
    "def L2(f, a, b, n):\n",
    "    \n",
    "    X = np.linspace(a, b, n)\n",
    "    X = X[:-1]\n",
    "\n",
    "    segmLen = (b-a)/(n-1)\n",
    "\n",
    "    segmCenters = []\n",
    "    for segm in X:\n",
    "        segmCenters.append((segm + segm+segmLen)*.5)\n",
    "\n",
    "    elements = map(lambda x : f(x)*f(x), segmCenters)\n",
    "    elements = np.array(elements)*segmLen\n",
    "\n",
    "    return elements.sum()"
   ]
  },
  {
   "cell_type": "code",
   "execution_count": 8,
   "metadata": {
    "collapsed": false
   },
   "outputs": [
    {
     "name": "stdout",
     "output_type": "stream",
     "text": [
      "0.444582108689\n"
     ]
    }
   ],
   "source": [
    "f = lambda x : np.log(x)*np.sin(x)\n",
    "a = 1.\n",
    "b = 3.\n",
    "n = 10\n",
    "print L2(f, a, b, n)"
   ]
  }
 ],
 "metadata": {
  "kernelspec": {
   "display_name": "Python 2",
   "language": "python",
   "name": "python2"
  },
  "language_info": {
   "codemirror_mode": {
    "name": "ipython",
    "version": 2
   },
   "file_extension": ".py",
   "mimetype": "text/x-python",
   "name": "python",
   "nbconvert_exporter": "python",
   "pygments_lexer": "ipython2",
   "version": "2.7.11"
  }
 },
 "nbformat": 4,
 "nbformat_minor": 0
}
